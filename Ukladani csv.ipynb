{
 "cells": [
  {
   "cell_type": "code",
   "execution_count": 2,
   "metadata": {},
   "outputs": [],
   "source": [
    "from datetime import datetime\n",
    "import requests\n",
    "from bs4 import BeautifulSoup\n",
    "from tqdm import tqdm\n",
    "import pandas as pd\n",
    "import math\n",
    "import operator\n"
   ]
  },
  {
   "cell_type": "code",
   "execution_count": 9,
   "metadata": {},
   "outputs": [],
   "source": [
    "# read saved prices\n",
    "prices = pd.read_csv(\"./prices.csv\")"
   ]
  },
  {
   "cell_type": "code",
   "execution_count": 10,
   "metadata": {},
   "outputs": [
    {
     "data": {
      "text/html": "<div>\n<style scoped>\n    .dataframe tbody tr th:only-of-type {\n        vertical-align: middle;\n    }\n\n    .dataframe tbody tr th {\n        vertical-align: top;\n    }\n\n    .dataframe thead th {\n        text-align: right;\n    }\n</style>\n<table border=\"1\" class=\"dataframe\">\n  <thead>\n    <tr style=\"text-align: right;\">\n      <th></th>\n      <th>shop</th>\n      <th>timestamp</th>\n      <th>product</th>\n      <th>price</th>\n    </tr>\n  </thead>\n  <tbody>\n    <tr>\n      <th>0</th>\n      <td>CZC</td>\n      <td>2019-12-16 17:44:28.432887</td>\n      <td>Mys</td>\n      <td>12</td>\n    </tr>\n    <tr>\n      <th>1</th>\n      <td>CZC</td>\n      <td>2019-12-16 17:44:28.446934</td>\n      <td>Notebook</td>\n      <td>122</td>\n    </tr>\n    <tr>\n      <th>2</th>\n      <td>CZC</td>\n      <td>2019-12-16 17:44:28.458476</td>\n      <td>Mobil</td>\n      <td>45</td>\n    </tr>\n    <tr>\n      <th>3</th>\n      <td>Alza</td>\n      <td>2019-12-16 17:44:28.470659</td>\n      <td>Mys</td>\n      <td>45</td>\n    </tr>\n    <tr>\n      <th>4</th>\n      <td>Alza</td>\n      <td>2019-12-16 17:44:28.481968</td>\n      <td>Notebook</td>\n      <td>150</td>\n    </tr>\n  </tbody>\n</table>\n</div>",
      "text/plain": "   shop                   timestamp   product  price\n0   CZC  2019-12-16 17:44:28.432887       Mys     12\n1   CZC  2019-12-16 17:44:28.446934  Notebook    122\n2   CZC  2019-12-16 17:44:28.458476     Mobil     45\n3  Alza  2019-12-16 17:44:28.470659       Mys     45\n4  Alza  2019-12-16 17:44:28.481968  Notebook    150"
     },
     "execution_count": 10,
     "metadata": {},
     "output_type": "execute_result"
    }
   ],
   "source": [
    "prices.head()"
   ]
  },
  {
   "cell_type": "code",
   "execution_count": 12,
   "metadata": {},
   "outputs": [],
   "source": [
    "class Downloader:\n",
    "    \n",
    "    def is_new_product_price(self, product): # checked if the price is different or not\n",
    "        \n",
    "        latest_price = 0\n",
    "        \n",
    "        for index, row in prices.iterrows():\n",
    "            if(row[\"shop\"] == self.name and row[\"product\"] == product.get(\"name\")):\n",
    "                latest_price = row[\"price\"]\n",
    "\n",
    "        if(latest_price != product.get(\"price\")):\n",
    "            return True\n",
    "        \n",
    "    def update_prices(self): # if the price is different, add a new row\n",
    "        products = self.get_products()\n",
    "        \n",
    "        for product in products:\n",
    "            if(self.is_new_product_price(product)):\n",
    "                print(\"added row\")\n",
    "                \n",
    "             # how to add a row\n",
    "                global prices\n",
    "                prices = prices.append({\"shop\":self.name, \"timestamp\": datetime.now(), \"product\": product.get(\"name\"), \"price\": product.get(\"price\")}, ignore_index=True)\n",
    "\n",
    "                \n",
    "        \n",
    "class Downloader_CZC(Downloader):\n",
    "     \n",
    "    def get_products(self): #here would be the downloader for CZC\n",
    "        \n",
    "        return   [\n",
    "            {\"name\":\"Mys\", \"price\": 23},\n",
    "            {\"name\":\"Notebook\", \"price\": 178},\n",
    "            {\"name\":\"Mobil\", \"price\": 336}\n",
    "        ]\n",
    "    \n",
    "    name = \"CZC\"\n",
    "\n",
    "\n",
    "class Downloader_Alza(Downloader): #here would be the downloader for Alza\n",
    "    \n",
    "    name = \"Alza\"\n",
    "    \n",
    "\n",
    "    def get_products(self):\n",
    "\n",
    "        return [\n",
    "            {\"name\":\"Mys\", \"price\": 25},\n",
    "            {\"name\":\"Notebook\", \"price\": 37},\n",
    "            {\"name\":\"Mobil\", \"price\": 690}\n",
    "        ]\n",
    "    \n",
    "class Downloader_Mall(Downloader): #here would be the downloader for Mall\n",
    "    \n",
    "    name = \"Mall\"\n",
    "    \n",
    "\n",
    "    def get_products(self):\n",
    "\n",
    "        return [\n",
    "            {\"name\":\"Mys\", \"price\": 43},\n",
    "            {\"name\":\"Notebook\", \"price\": 289},\n",
    "            {\"name\":\"Mobil\", \"price\": 45}\n",
    "        ]"
   ]
  },
  {
   "cell_type": "code",
   "execution_count": 13,
   "metadata": {},
   "outputs": [],
   "source": [
    "# add Mall\n",
    "downloaders = [Downloader_CZC(), Downloader_Alza(), Downloader_Mall()]"
   ]
  },
  {
   "cell_type": "code",
   "execution_count": 14,
   "metadata": {},
   "outputs": [
    {
     "name": "stdout",
     "output_type": "stream",
     "text": "added row\nadded row\n"
    }
   ],
   "source": [
    "# for every downloader in downloader, it downloads the prices, look if it is changed and eventually it adds a new price to prices\n",
    "\n",
    "for downloader in downloaders:\n",
    "    downloader.update_prices()\n",
    "    "
   ]
  },
  {
   "cell_type": "code",
   "execution_count": 15,
   "metadata": {},
   "outputs": [
    {
     "data": {
      "text/html": "<div>\n<style scoped>\n    .dataframe tbody tr th:only-of-type {\n        vertical-align: middle;\n    }\n\n    .dataframe tbody tr th {\n        vertical-align: top;\n    }\n\n    .dataframe thead th {\n        text-align: right;\n    }\n</style>\n<table border=\"1\" class=\"dataframe\">\n  <thead>\n    <tr style=\"text-align: right;\">\n      <th></th>\n      <th>shop</th>\n      <th>timestamp</th>\n      <th>product</th>\n      <th>price</th>\n    </tr>\n  </thead>\n  <tbody>\n    <tr>\n      <th>0</th>\n      <td>CZC</td>\n      <td>2019-12-16 17:44:28.432887</td>\n      <td>Mys</td>\n      <td>12</td>\n    </tr>\n    <tr>\n      <th>1</th>\n      <td>CZC</td>\n      <td>2019-12-16 17:44:28.446934</td>\n      <td>Notebook</td>\n      <td>122</td>\n    </tr>\n    <tr>\n      <th>2</th>\n      <td>CZC</td>\n      <td>2019-12-16 17:44:28.458476</td>\n      <td>Mobil</td>\n      <td>45</td>\n    </tr>\n    <tr>\n      <th>3</th>\n      <td>Alza</td>\n      <td>2019-12-16 17:44:28.470659</td>\n      <td>Mys</td>\n      <td>45</td>\n    </tr>\n    <tr>\n      <th>4</th>\n      <td>Alza</td>\n      <td>2019-12-16 17:44:28.481968</td>\n      <td>Notebook</td>\n      <td>150</td>\n    </tr>\n  </tbody>\n</table>\n</div>",
      "text/plain": "   shop                   timestamp   product  price\n0   CZC  2019-12-16 17:44:28.432887       Mys     12\n1   CZC  2019-12-16 17:44:28.446934  Notebook    122\n2   CZC  2019-12-16 17:44:28.458476     Mobil     45\n3  Alza  2019-12-16 17:44:28.470659       Mys     45\n4  Alza  2019-12-16 17:44:28.481968  Notebook    150"
     },
     "execution_count": 15,
     "metadata": {},
     "output_type": "execute_result"
    }
   ],
   "source": [
    "prices.head() "
   ]
  },
  {
   "cell_type": "code",
   "execution_count": 16,
   "metadata": {},
   "outputs": [],
   "source": [
    "prices.to_csv(\"prices.csv\", index=False) # index = False - deletes the new column which shows which every new price\n"
   ]
  }
 ],
 "metadata": {
  "kernelspec": {
   "display_name": "Python 3",
   "language": "python",
   "name": "python3"
  },
  "language_info": {
   "codemirror_mode": {
    "name": "ipython",
    "version": 3
   },
   "file_extension": ".py",
   "mimetype": "text/x-python",
   "name": "python",
   "nbconvert_exporter": "python",
   "pygments_lexer": "ipython3",
   "version": "3.7.3"
  }
 },
 "nbformat": 4,
 "nbformat_minor": 4
}
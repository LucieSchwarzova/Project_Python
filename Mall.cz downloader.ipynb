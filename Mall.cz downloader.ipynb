{
 "cells": [
  {
   "cell_type": "code",
   "execution_count": null,
   "metadata": {},
   "outputs": [],
   "source": [
    "# stazeni kategorii\n",
    "# loop\n",
    "# odebrat duplicity\n",
    "# pandy\n",
    "# strukturovane jmeno\n",
    "# "
   ]
  },
  {
   "cell_type": "code",
   "execution_count": 2,
   "metadata": {},
   "outputs": [],
   "source": [
    "import requests\n",
    "from bs4 import BeautifulSoup\n",
    "from tqdm import tqdm\n",
    "import pandas as pd\n",
    "import math\n",
    "import operator"
   ]
  },
  {
   "cell_type": "code",
   "execution_count": 3,
   "metadata": {},
   "outputs": [
    {
     "name": "stdout",
     "output_type": "stream",
     "text": [
      "User-agent: *\n",
      "\n",
      "Disallow: /user/\n",
      "Disallow: /klient/\n",
      "Disallow: /kosik/\n",
      "Disallow: /preview/\n",
      "Disallow: /id/\n",
      "Disallow: /api/\n",
      "Disallow: /cetelem/\n",
      "Disallow: /hodnoceni-nakupu/\n",
      "Disallow: /dodo\n",
      "Disallow: /*$*\n",
      "\n",
      "Sitemap: https://www.mall.cz/sitemap\n",
      "\n"
     ]
    }
   ],
   "source": [
    "print(requests.get('https://www.mall.cz/robots.txt').text)"
   ]
  },
  {
   "cell_type": "code",
   "execution_count": 6,
   "metadata": {},
   "outputs": [
    {
     "name": "stdout",
     "output_type": "stream",
     "text": [
      "<Response [200]>\n"
     ]
    }
   ],
   "source": [
    "result = requests.get(\"https://www.mall.cz/telefony-apple-iphone/apple-iphone-8-64gb-vesmirne-sedy\")\n",
    "print(result)"
   ]
  }
 ],
 "metadata": {
  "kernelspec": {
   "display_name": "Python 3",
   "language": "python",
   "name": "python3"
  },
  "language_info": {
   "codemirror_mode": {
    "name": "ipython",
    "version": 3
   },
   "file_extension": ".py",
   "mimetype": "text/x-python",
   "name": "python",
   "nbconvert_exporter": "python",
   "pygments_lexer": "ipython3",
   "version": "3.7.3"
  }
 },
 "nbformat": 4,
 "nbformat_minor": 2
}
